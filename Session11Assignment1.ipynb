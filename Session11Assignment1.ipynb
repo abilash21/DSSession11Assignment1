{
 "cells": [
  {
   "cell_type": "markdown",
   "metadata": {},
   "source": [
    "Consider a DataFrame df where there is an integer column 'X':\n",
    "df = pd.DataFrame({'X': [7, 2, 0, 3, 4, 2, 5, 0, 3, 4]})\n",
    "For each value, count the difference back to the previous zero (or the start of the Series,\n",
    "whichever is closer).\n",
    "These values should therefore be [1, 2, 0, 1, 2, 3, 4, 0, 1, 2]. Make this a new column 'Y'.\n"
   ]
  },
  {
   "cell_type": "code",
   "execution_count": 29,
   "metadata": {},
   "outputs": [
    {
     "name": "stdout",
     "output_type": "stream",
     "text": [
      "df Table with additional column is\n",
      "    X  Y\n",
      "0  7  1\n",
      "1  2  2\n",
      "2  0  0\n",
      "3  3  1\n",
      "4  4  2\n",
      "5  2  3\n",
      "6  5  4\n",
      "7  0  0\n",
      "8  3  1\n",
      "9  4  2\n"
     ]
    }
   ],
   "source": [
    "##### FIRST METHOD #######\n",
    "import pandas as pd\n",
    "\n",
    "df = pd.DataFrame({'X': [7, 2, 0, 3, 4, 2, 5, 0, 3, 4]})\n",
    "\n",
    "lst =[]\n",
    "x=0\n",
    "for i in df['X']:\n",
    "    if i> 0:\n",
    "        x+=1\n",
    "    else:\n",
    "        x=0\n",
    "    lst.append(x)\n",
    "df['Y'] = lst\n",
    "print(\"df Table with additional column is\\n\", df)\n"
   ]
  },
  {
   "cell_type": "code",
   "execution_count": 26,
   "metadata": {},
   "outputs": [
    {
     "name": "stdout",
     "output_type": "stream",
     "text": [
      "df Table with additional column is\n",
      "    X  Y\n",
      "0  7  1\n",
      "1  2  2\n",
      "2  0  0\n",
      "3  3  1\n",
      "4  4  2\n",
      "5  2  3\n",
      "6  5  4\n",
      "7  0  0\n",
      "8  3  1\n",
      "9  4  2\n"
     ]
    }
   ],
   "source": [
    "\n",
    "################## SEOND METHOD - USING PANDAS #############\n",
    "import pandas as pd\n",
    "\n",
    "df = pd.DataFrame({'X': [7, 2, 0, 3, 4, 2, 5, 0, 3, 4]})\n",
    "####### Cumulative Sum for values equal to 0 also masks 0 to NaN ###############\n",
    "#print((df['X'].eq(0).cumsum().mask(df['X'].eq(0)))) \n",
    "# e.g 1, 2, 3 cumulative sum = 1, 3, 5\n",
    "# Here, Cumulative sum based on condition where value == 0 (False = 0 , True = 1), Sum will be done for True, False not actual value\n",
    "# so cumsum will be sum of 0 (false) until first occurence '0' and on first occurence of 0 the value will be 1 and remain 1 until next occurence,\n",
    "# on second occurence of 0 value will become 2 until\n",
    "############ Group by and do a Cumulative count ###################\n",
    "# Group by and do cumulative count for 0s, 1s, 2s etc\n",
    "#print(df.groupby(df['X'].eq(0).cumsum().mask(df['X'].eq(0))).cumcount() + 1)\n",
    "# Group by and do cumulative count for 0s, 1s, 2s etc and the NaN are masked with 0 again \n",
    "df['Y'] =(df.groupby(df['X'].eq(0).cumsum().mask(df['X'].eq(0))).cumcount() + 1).mask(df['X'].eq(0), 0).tolist()\n",
    "print(\"df Table with additional column is\\n\", df)\n"
   ]
  },
  {
   "cell_type": "code",
   "execution_count": 31,
   "metadata": {},
   "outputs": [
    {
     "name": "stdout",
     "output_type": "stream",
     "text": [
      "df Table with additional column is\n",
      "    X  Y\n",
      "0  7  1\n",
      "1  2  2\n",
      "2  0  0\n",
      "3  3  1\n",
      "4  4  2\n",
      "5  2  3\n",
      "6  5  4\n",
      "7  0  0\n",
      "8  3  1\n",
      "9  4  2\n"
     ]
    }
   ],
   "source": [
    "########## THIRD METHOD ##################\n",
    "\n",
    "df = pd.DataFrame({'X': [7, 2, 0, 3, 4, 2, 5, 0, 3, 4]})\n",
    "\n",
    "lst = []\n",
    "pos = -1\n",
    "for iterator, val in enumerate(df['X']):\n",
    "    if val == 0:\n",
    "        pos = iterator\n",
    "    lst.append(iterator - pos)\n",
    "    \n",
    "df['Y'] = b\n",
    "print(\"df Table with additional column is\\n\", df)"
   ]
  },
  {
   "cell_type": "code",
   "execution_count": null,
   "metadata": {
    "collapsed": true
   },
   "outputs": [],
   "source": []
  }
 ],
 "metadata": {
  "kernelspec": {
   "display_name": "Python 3",
   "language": "python",
   "name": "python3"
  },
  "language_info": {
   "codemirror_mode": {
    "name": "ipython",
    "version": 3
   },
   "file_extension": ".py",
   "mimetype": "text/x-python",
   "name": "python",
   "nbconvert_exporter": "python",
   "pygments_lexer": "ipython3",
   "version": "3.6.3"
  }
 },
 "nbformat": 4,
 "nbformat_minor": 2
}
